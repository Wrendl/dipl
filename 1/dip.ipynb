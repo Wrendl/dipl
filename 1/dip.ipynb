{
 "cells": [
  {
   "cell_type": "code",
   "execution_count": null,
   "metadata": {},
   "outputs": [],
   "source": []
  },
  {
   "cell_type": "code",
   "execution_count": 73,
   "metadata": {},
   "outputs": [
    {
     "data": {
      "text/plain": [
       "24333.333333333332"
      ]
     },
     "execution_count": 73,
     "metadata": {},
     "output_type": "execute_result"
    }
   ],
   "source": [
    "from bs4 import BeautifulSoup\n",
    "import requests\n",
    "import re\n",
    "prices = []\n",
    "brand = 'Nissan'\n",
    "model = 'Murano'\n",
    "search = 'Насос гур'\n",
    "\n",
    "search_str = search.lower().strip().replace(' ', '+')\n",
    "\n",
    "host = f'https://kolesa.kz/zapchasti/prodazha/{brand.lower()}/{model.lower()}/?_txt_={search_str}&spare-condition=2&has-delivery=1&find-in-text=0'\n",
    "\n",
    "request1 = requests.get(host)\n",
    "soup1 = BeautifulSoup(request1.text, 'html.parser')\n",
    "\n",
    "for i in soup1.find_all(class_='a-card__title'):\n",
    "    request2 = requests.get('https://kolesa.kz'+ i.find('a', class_='a-card__link')['href']) #item_link\n",
    "    soup2 = BeautifulSoup(request2.text, 'html.parser')\n",
    "    \n",
    "    p = re.sub(\"[^0-9]\", \"\", soup2.find('div', class_='offer__price').text)\n",
    "    prices.append(int(p))\n",
    "    \n",
    "    \n",
    "sum(prices[:3])/len(prices[:3])"
   ]
  },
  {
   "cell_type": "code",
   "execution_count": null,
   "metadata": {},
   "outputs": [],
   "source": []
  },
  {
   "cell_type": "code",
   "execution_count": null,
   "metadata": {},
   "outputs": [],
   "source": []
  },
  {
   "cell_type": "code",
   "execution_count": 83,
   "metadata": {},
   "outputs": [],
   "source": [
    "from bs4 import BeautifulSoup\n",
    "import requests\n",
    "import re"
   ]
  },
  {
   "cell_type": "code",
   "execution_count": 134,
   "metadata": {},
   "outputs": [],
   "source": [
    "def kolesa(miles, prices):\n",
    "    \n",
    "    volume = 1.6\n",
    "    year = 2022\n",
    "    brand = 'Kia'\n",
    "    model = 'Cerato'\n",
    "    fuel_type = 'Бензин'\n",
    "    kpp_type = 'Автомат'\n",
    "    sweel_type = 'Слева'\n",
    "    privod_type = 'Передний'\n",
    "    \n",
    "    fuel = {'бензин': 1,\n",
    "        'дизель':2,\n",
    "        'газбензин':3,\n",
    "        'газ':4,\n",
    "        'гибрид':5,\n",
    "        'электричество':6}\n",
    "    car_transm = {'механика':1,\n",
    "              'автомат':2,\n",
    "              'типтроник':3,\n",
    "              'вариатор':4,\n",
    "              'робот':5}\n",
    "    sweel = {'слева':1, 'справа':2}\n",
    "    dwheel = {'передний привод':1, 'передний':1,\n",
    "          'полный привод': 2, 'полный':2,\n",
    "          'задний привод':3, 'задний':3}\n",
    "    \n",
    "    try:\n",
    "        host = f'https://kolesa.kz/cars/{brand.lower()}/{model.lower()}/?auto-fuel={fuel[fuel_type.lower()]}&auto-car-transm={car_transm[kpp_type.lower()]}&auto-sweel={sweel[sweel_type.lower()]}&car-dwheel={dwheel[privod_type.lower()]}&auto-run[to]={miles}&auto-car-volume[from]={volume}&auto-car-volume[to]={volume}&year[from]={year}&year[to]={year}'\n",
    "        response = requests.get(host)\n",
    "        soup = BeautifulSoup(response.text, 'html.parser')\n",
    "        \n",
    "        items_soup = soup.find_all(class_='a-card__info')\n",
    "        \n",
    "        for item in items_soup:\n",
    "            item_price = re.sub(\"[^0-9]\", \"\", item.find('span', class_='a-card__price').text)\n",
    "            prices.append(int(item_price))\n",
    "            \n",
    "        \n",
    "    except ConnectionError:\n",
    "        print()\n",
    "    \n",
    "    finally:\n",
    "        return prices\n"
   ]
  },
  {
   "cell_type": "code",
   "execution_count": 103,
   "metadata": {},
   "outputs": [],
   "source": [
    "def mycar(miles, prices):\n",
    "    volume = 1.6\n",
    "    year = 2022\n",
    "    #miles = 100 #пробег\n",
    "    brand = 'Kia'\n",
    "    model = 'Cerato'\n",
    "    fuel_type = 'Бензин'\n",
    "    kpp_type = 'Автомат'\n",
    "    sweel_type = 'Слева'\n",
    "    privod_type = 'Передний'\n",
    "    \n",
    "    fuel_mc = {'бензин':9, 'дизель':10,\n",
    "           'гибрид':11, 'электричество':12}\n",
    "    car_transm_mc = {'механика':14, 'автомат':13}\n",
    "    sweel_mc = {'слева':'false', 'справа':'true'}\n",
    "    dwheel_mc = {'передний привод':15, 'передний':15,\n",
    "             'полный привод':17, 'полный':17,\n",
    "             'задний привод':16, 'задний':16}\n",
    "    \n",
    "    host = f'https://mycar.kz/cars/{brand.lower()}/{model.lower()}?yearFrom={year}&yearTo={year}&engineVolumeFrom={volume}&engineVolumeTo={volume}&gearboxes={car_transm_mc[kpp_type.lower()]}&engines={fuel_mc[fuel_type.lower()]}&drives={dwheel_mc[privod_type.lower()]}&rightHand={sweel_mc[sweel_type.lower()]}&mileage={miles}'\n",
    "    response = requests.get(host)\n",
    "    soup = BeautifulSoup(response.text, 'html.parser')\n",
    "    \n",
    "    items_soup = soup.find_all(class_='car-card relative w-full h-full flex flex-col rounded-2xl bg-papera border-1 border-solid border-inko-10')\n",
    "    for item in items_soup:\n",
    "        item_price = int(re.sub(\"[^0-9]\", \"\", item.find('h6', class_='text-h6 font-bold text-inko-100').text))\n",
    "        prices.append(item_price)\n",
    "    return prices\n",
    "    "
   ]
  },
  {
   "cell_type": "code",
   "execution_count": 121,
   "metadata": {},
   "outputs": [],
   "source": [
    "def aster(miles, prices):\n",
    "    \n",
    "    volume = 1.6\n",
    "    year = 2022\n",
    "    brand = 'Kia'\n",
    "    model = 'Ceed'\n",
    "    fuel_type = 'Бензин'\n",
    "    kpp_type = 'Автомат'\n",
    "    sweel_type = 'Слева'\n",
    "    privod_type = 'Передний'\n",
    "    \n",
    "    car_transm_st = {'механика': 'MT', 'автомат': 'AVTOMAT',\n",
    "                    'вариатор': 'VARIATOR', 'робот': 'ROBOT'}\n",
    "    sweel_st = {'слева': 1, 'справа': 2}\n",
    "    dwheel_st = {'передний привод': 'front', 'передний': 'front',\n",
    "             'полный привод': 'full', 'полный': 'full',\n",
    "             'задний привод': 'back', 'задний': 'back'}\n",
    "    \n",
    "    host = f'https://aster.kz/cars/{brand.lower()}/{model.lower()}?yearFrom={year}&yearTo={year}&transmission={car_transm_st[kpp_type.lower()]}&transmissionDriveType={dwheel_st[privod_type.lower()]}&mileageTo={miles}&volumeFrom={volume}&volumeTo={volume}&steering={sweel_st[sweel_type.lower()]}'\n",
    "    \n",
    "    request = requests.get(host)\n",
    "    soup = BeautifulSoup(request.text, 'html.parser')\n",
    "    \n",
    "    items_soup = soup.find_all(class_='car fadeIn')\n",
    "    for item in items_soup:\n",
    "        item_price = re.sub(\"[^0-9]\", \"\", item.find('a', class_='price fw-700 f-18 car-link').text)\n",
    "        prices.append(int(item_price))\n",
    "        \n",
    "    return prices\n",
    "    "
   ]
  },
  {
   "cell_type": "code",
   "execution_count": 135,
   "metadata": {},
   "outputs": [
    {
     "name": "stdout",
     "output_type": "stream",
     "text": [
      "[13500000, 12500000, 13300000, 13500000, 12600000, 12650000, 13000000, 13000000, 13190000, 12500000, 12800000, 13000000, 14100000, 12500000, 12600000, 13100000, 12500000, 13500000, 12600000, 12600000]\n"
     ]
    }
   ],
   "source": [
    "prices = []\n",
    "print(kolesa(100, prices))"
   ]
  },
  {
   "cell_type": "code",
   "execution_count": null,
   "metadata": {},
   "outputs": [],
   "source": []
  }
 ],
 "metadata": {
  "kernelspec": {
   "display_name": "Python 3",
   "language": "python",
   "name": "python3"
  },
  "language_info": {
   "codemirror_mode": {
    "name": "ipython",
    "version": 3
   },
   "file_extension": ".py",
   "mimetype": "text/x-python",
   "name": "python",
   "nbconvert_exporter": "python",
   "pygments_lexer": "ipython3",
   "version": "3.8.5"
  }
 },
 "nbformat": 4,
 "nbformat_minor": 4
}
